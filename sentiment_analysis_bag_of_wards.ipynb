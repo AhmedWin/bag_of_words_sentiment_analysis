{
 "cells": [
  {
   "cell_type": "code",
   "execution_count": 7,
   "id": "a6c2ce08-d8f5-46a9-b16a-9ae9da0a1d40",
   "metadata": {
    "tags": []
   },
   "outputs": [
    {
     "name": "stdout",
     "output_type": "stream",
     "text": [
      "Tweet: The beautiful flowers were in full bloom and the sweet scent filled the air . The birds were singing merrily and the sun was shining brightly . It was a perfect day\n",
      "Nice Word Count: 2\n",
      "\n",
      "Tweet: The kind and generous old man was always willing to help others . He was a role model for the entire community and he was loved by everyone\n",
      "Nice Word Count: 2\n",
      "\n",
      "Tweet: The intelligent and talented young woman had a bright future ahead of her . She was passionate about her work and she was determined to make a difference in the world\n",
      "Nice Word Count: 2\n",
      "\n",
      "Tweet: Sending out good vibes to everyone today! Have a beautiful day!\n",
      "Nice Word Count: 2\n",
      "\n",
      "Tweet: Grateful for the amazing people in my life who make it so wonderful\n",
      "Nice Word Count: 1\n",
      "\n"
     ]
    }
   ],
   "source": [
    "# Step 1: Read the nice_words.txt file into a list.\n",
    "nice_words = []\n",
    "with open('nice_words.txt', 'r') as nice_words_file:\n",
    "    nice_words = nice_words_file.read().splitlines()\n",
    "\n",
    "# Step 2: Read the tweets.txt file into a tweets list.\n",
    "tweets = []\n",
    "with open('tweets.txt', 'r') as tweets_file:\n",
    "    tweets = tweets_file.read().splitlines()\n",
    "\n",
    "# Step 3: Define a function to count the number of nice words in a tweet.\n",
    "def count_nice_words(tweet):\n",
    "    tweet_words = tweet.split()\n",
    "    nice_word_count = 0\n",
    "    for word in tweet_words:\n",
    "        if word.lower() in nice_words:\n",
    "            nice_word_count += 1\n",
    "    return nice_word_count\n",
    "\n",
    "# Step 4: Look at each of the tweets, count the number of nice words, and store the results in a dictionary.\n",
    "tweet_scores = {}\n",
    "for tweet in tweets:\n",
    "    nice_word_count = count_nice_words(tweet)\n",
    "    tweet_scores[tweet] = nice_word_count\n",
    "\n",
    "# Step 5: Sort the tweets in descending order based on the number of nice words.\n",
    "sorted_tweets = sorted(tweet_scores.items(), key=lambda x: x[1], reverse=True)\n",
    "\n",
    "# Step 6: Display the tweets along with the count of nice words in each tweet.\n",
    "for tweet, score in sorted_tweets:\n",
    "    print(f'Tweet: {tweet}\\nNice Word Count: {score}\\n')\n"
   ]
  },
  {
   "cell_type": "code",
   "execution_count": null,
   "id": "ac4eee39-5dc4-4335-a618-80c05388fd3c",
   "metadata": {},
   "outputs": [],
   "source": []
  }
 ],
 "metadata": {
  "kernelspec": {
   "display_name": "Python 3 (ipykernel)",
   "language": "python",
   "name": "python3"
  },
  "language_info": {
   "codemirror_mode": {
    "name": "ipython",
    "version": 3
   },
   "file_extension": ".py",
   "mimetype": "text/x-python",
   "name": "python",
   "nbconvert_exporter": "python",
   "pygments_lexer": "ipython3",
   "version": "3.11.5"
  }
 },
 "nbformat": 4,
 "nbformat_minor": 5
}
